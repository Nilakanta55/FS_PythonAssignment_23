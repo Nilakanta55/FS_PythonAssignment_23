{
 "cells": [
  {
   "cell_type": "markdown",
   "id": "b94a5634",
   "metadata": {},
   "source": [
    "### 1. What is the result of the code, and why?\n"
   ]
  },
  {
   "cell_type": "code",
   "execution_count": 1,
   "id": "634a2496",
   "metadata": {},
   "outputs": [
    {
     "name": "stdout",
     "output_type": "stream",
     "text": [
      "1 2 8\n"
     ]
    }
   ],
   "source": [
    "def func(a, b=6, c=8):\n",
    "    print(a, b, c)\n",
    "\n",
    "    \n",
    "func(1, 2)"
   ]
  },
  {
   "cell_type": "markdown",
   "id": "449eab00",
   "metadata": {},
   "source": [
    "the output here is 1 2 8, because 1 and 2 are passed to a and b by position, and c is omitted in the call and defaults to 8"
   ]
  },
  {
   "cell_type": "code",
   "execution_count": null,
   "id": "972c35f8",
   "metadata": {},
   "outputs": [],
   "source": []
  },
  {
   "cell_type": "markdown",
   "id": "f73fe551",
   "metadata": {},
   "source": [
    "### 2. What is the result of this code, and why?"
   ]
  },
  {
   "cell_type": "code",
   "execution_count": 2,
   "id": "eb9e10d6",
   "metadata": {},
   "outputs": [
    {
     "name": "stdout",
     "output_type": "stream",
     "text": [
      "1 2 3\n"
     ]
    }
   ],
   "source": [
    "def func(a, b, c=5):\n",
    "    print(a, b, c)\n",
    "\n",
    "func(1, c=3, b=2)\n"
   ]
  },
  {
   "cell_type": "markdown",
   "id": "86ba66d3",
   "metadata": {},
   "source": [
    "The output here is 1 2 3: 1 is passed to a by position, and b and c are passed 2 and 3 by name(the left to right order doesn't matter when keyword arguments are used like this)"
   ]
  },
  {
   "cell_type": "code",
   "execution_count": null,
   "id": "89f8939b",
   "metadata": {},
   "outputs": [],
   "source": []
  },
  {
   "cell_type": "markdown",
   "id": "f027084f",
   "metadata": {},
   "source": [
    "### 3. How about this code: what is its result, and why?"
   ]
  },
  {
   "cell_type": "code",
   "execution_count": 3,
   "id": "35f15d2a",
   "metadata": {},
   "outputs": [
    {
     "name": "stdout",
     "output_type": "stream",
     "text": [
      "1 (2, 3)\n"
     ]
    }
   ],
   "source": [
    "def func(a, *pargs):\n",
    "    print(a, pargs)\n",
    "\n",
    "func(1, 2, 3)\n"
   ]
  },
  {
   "cell_type": "markdown",
   "id": "7df9be6a",
   "metadata": {},
   "source": [
    "This code prints 1, (2,3), because 1 is passed to a and the *pargs collects the remainng positional arguments into a new tuple object. we can step through the extra positional arguments tuple with anyt iteration tool"
   ]
  },
  {
   "cell_type": "code",
   "execution_count": null,
   "id": "1a8b7d12",
   "metadata": {},
   "outputs": [],
   "source": []
  },
  {
   "cell_type": "markdown",
   "id": "58a3c5bd",
   "metadata": {},
   "source": [
    "### 4. What does this code print, and why?"
   ]
  },
  {
   "cell_type": "code",
   "execution_count": 4,
   "id": "1d901800",
   "metadata": {},
   "outputs": [
    {
     "name": "stdout",
     "output_type": "stream",
     "text": [
      "1 {'c': 3, 'b': 2}\n"
     ]
    }
   ],
   "source": [
    "def func(a, **kargs):\n",
    "    print(a, kargs)\n",
    "func(a=1, c=3, b=2)"
   ]
  },
  {
   "cell_type": "markdown",
   "id": "0d2293bb",
   "metadata": {},
   "source": [
    "this time the code prints 1 {'c': 3, 'b': 2}, because 1 is passed to a by name and the **kargs collects the remaining arguments into a dictionary. we we could step through the extra keyword dictionaty by key with any iteration tool "
   ]
  },
  {
   "cell_type": "code",
   "execution_count": null,
   "id": "485b07c2",
   "metadata": {},
   "outputs": [],
   "source": []
  },
  {
   "cell_type": "markdown",
   "id": "4ce5e939",
   "metadata": {},
   "source": [
    "### 5. What gets printed by this, and explain?\n"
   ]
  },
  {
   "cell_type": "code",
   "execution_count": 5,
   "id": "4d7c9641",
   "metadata": {},
   "outputs": [
    {
     "name": "stdout",
     "output_type": "stream",
     "text": [
      "1 5 6 5\n"
     ]
    }
   ],
   "source": [
    "def func(a, b, c=8, d=5): print(a, b, c, d)\n",
    "\n",
    "func(1, *(5, 6))"
   ]
  },
  {
   "cell_type": "markdown",
   "id": "dc53ece2",
   "metadata": {},
   "source": [
    "the output here is 1 5 6 5: the 1 matches a by position, 5 and 6 match b and c by *name positionals (6 overrides c's default), and d defaults to 4 because it was not passed a value."
   ]
  },
  {
   "cell_type": "code",
   "execution_count": null,
   "id": "701fb59d",
   "metadata": {},
   "outputs": [],
   "source": []
  },
  {
   "cell_type": "markdown",
   "id": "cac24abe",
   "metadata": {},
   "source": [
    "### 6. what is the result of this, and explain?"
   ]
  },
  {
   "cell_type": "code",
   "execution_count": 7,
   "id": "3de9cbc2",
   "metadata": {},
   "outputs": [
    {
     "data": {
      "text/plain": [
       "(1, ['x'], {'a': 'y'})"
      ]
     },
     "execution_count": 7,
     "metadata": {},
     "output_type": "execute_result"
    }
   ],
   "source": [
    "def func(a, b, c): a = 2; b[0] = 'x'; c['a'] = 'y'\n",
    "l=1; m=[1]; n={'a':0}\n",
    "func(l, m, n)\n",
    "l, m, n"
   ]
  },
  {
   "cell_type": "markdown",
   "id": "e1f9c99a",
   "metadata": {},
   "source": [
    "this displays (1, ['x'], {'a': 'y'}) --- the first assignment in the funtion doesn't impact the caller, but the second two do because they chanfe passed in mutable objects in place."
   ]
  },
  {
   "cell_type": "code",
   "execution_count": null,
   "id": "5b79d65c",
   "metadata": {},
   "outputs": [],
   "source": []
  },
  {
   "cell_type": "code",
   "execution_count": null,
   "id": "c0199274",
   "metadata": {},
   "outputs": [],
   "source": []
  }
 ],
 "metadata": {
  "kernelspec": {
   "display_name": "Python 3",
   "language": "python",
   "name": "python3"
  },
  "language_info": {
   "codemirror_mode": {
    "name": "ipython",
    "version": 3
   },
   "file_extension": ".py",
   "mimetype": "text/x-python",
   "name": "python",
   "nbconvert_exporter": "python",
   "pygments_lexer": "ipython3",
   "version": "3.8.8"
  }
 },
 "nbformat": 4,
 "nbformat_minor": 5
}
